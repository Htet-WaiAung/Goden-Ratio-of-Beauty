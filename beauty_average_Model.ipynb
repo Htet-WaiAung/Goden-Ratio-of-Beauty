{
  "cells": [
    {
      "cell_type": "code",
      "execution_count": null,
      "metadata": {
        "id": "SwtdKrO41cgP"
      },
      "outputs": [],
      "source": [
        "import os\n",
        "import numpy as np\n",
        "\n",
        "import tensorflow as tf\n",
        "from tensorflow.keras import Sequential, Model, Input\n",
        "from tensorflow.keras.layers import Dense\n",
        "from tensorflow.keras.optimizers import Adam\n",
        "from tensorflow.keras.preprocessing.image import ImageDataGenerator\n",
        "from sklearn.model_selection import train_test_split\n",
        "from sklearn.metrics import mean_squared_error, mean_absolute_error\n",
        "\n",
        "import warnings\n",
        "warnings.filterwarnings('ignore')\n",
        "\n",
        "from tensorflow.keras.models import Model, load_model"
      ]
    },
    {
      "cell_type": "code",
      "execution_count": null,
      "metadata": {
        "colab": {
          "base_uri": "https://localhost:8080/"
        },
        "id": "YebFaysFmOIe",
        "outputId": "c46b1ec3-9466-4b3a-ea6a-931fde2359fb"
      },
      "outputs": [
        {
          "output_type": "stream",
          "name": "stdout",
          "text": [
            "Mounted at /content/drive\n"
          ]
        }
      ],
      "source": [
        "from google.colab import drive\n",
        "drive.mount('/content/drive')"
      ]
    },
    {
      "cell_type": "code",
      "execution_count": null,
      "metadata": {
        "id": "kdHplMv9oXY_"
      },
      "outputs": [],
      "source": [
        "train_dir = \"/content/drive/MyDrive/attractiveness/Testing/train\"\n",
        "test_dir = \"/content/drive/MyDrive/attractiveness/Testing/test\"\n",
        "val_dir = \"/content/drive/MyDrive/attractiveness/Testing/valid\""
      ]
    },
    {
      "cell_type": "code",
      "execution_count": null,
      "metadata": {
        "id": "e8ybA1vqpq3H"
      },
      "outputs": [],
      "source": [
        "train_gen = tf.keras.preprocessing.image.ImageDataGenerator(rescale= 1/255.,                                                                                                                   \n",
        "                                                           rotation_range=0.2,\n",
        "                                                           width_shift_range=0.2,\n",
        "                                                           height_shift_range=0.2,\n",
        "                                                           zoom_range = 0.2, \n",
        "                                                           horizontal_flip=True)\n",
        "\n",
        "test_gen = tf.keras.preprocessing.image.ImageDataGenerator(rescale= 1/255.)\n",
        "\n",
        "val_gen = tf.keras.preprocessing.image.ImageDataGenerator(rescale= 1/255.)"
      ]
    },
    {
      "cell_type": "code",
      "execution_count": null,
      "metadata": {
        "colab": {
          "base_uri": "https://localhost:8080/"
        },
        "id": "QPK6CCwbpx9x",
        "outputId": "6aefab20-271a-4443-bbe7-b376c1b3f558"
      },
      "outputs": [
        {
          "output_type": "stream",
          "name": "stdout",
          "text": [
            "Found 3717 images belonging to 2 classes.\n",
            "Found 250 images belonging to 2 classes.\n",
            "Found 298 images belonging to 2 classes.\n"
          ]
        }
      ],
      "source": [
        "#batch_size = 20\n",
        "\n",
        "train_data = train_gen.flow_from_directory(train_dir,\n",
        "                                           target_size = (224,224),\n",
        "                                           #batch_size=batch_size,\n",
        "                                           class_mode = \"binary\"\n",
        "                                           )\n",
        "test_data = test_gen.flow_from_directory(test_dir,\n",
        "                                         target_size = (224,224),\n",
        "                                         #batch_size=batch_size,\n",
        "                                         class_mode = \"binary\"\n",
        "                                         )\n",
        "val_data = val_gen.flow_from_directory(val_dir,\n",
        "                                       target_size = (224,224),\n",
        "                                       #batch_size=batch_size,\n",
        "                                       class_mode = \"binary\"\n",
        "                                       )"
      ]
    },
    {
      "cell_type": "code",
      "execution_count": null,
      "metadata": {
        "colab": {
          "base_uri": "https://localhost:8080/"
        },
        "id": "OdYtlOEVqgFI",
        "outputId": "e52c68db-924e-457e-8228-60aa0298bc85"
      },
      "outputs": [
        {
          "output_type": "execute_result",
          "data": {
            "text/plain": [
              "['average', 'beautiful']"
            ]
          },
          "metadata": {},
          "execution_count": 6
        }
      ],
      "source": [
        "labels = list(train_data.class_indices.keys())\n",
        "\n",
        "labels"
      ]
    },
    {
      "cell_type": "code",
      "execution_count": null,
      "metadata": {
        "id": "lJRSFe4NqilQ"
      },
      "outputs": [],
      "source": [
        "# visualizing the train data\n",
        "\n",
        "import matplotlib.pyplot as plt\n",
        "\n",
        "plt.figure(figsize=(16,16))\n",
        "\n",
        "for i in range(18):\n",
        "  image,label = train_data.next()\n",
        "\n",
        "  plt.subplot(6,3,i+1)\n",
        "  plt.imshow(image[i])\n",
        "  plt.title(labels[int(label[i])])\n",
        "  plt.axis(\"off\")"
      ]
    },
    {
      "cell_type": "code",
      "execution_count": null,
      "metadata": {
        "id": "AETVX7P2ycjX"
      },
      "outputs": [],
      "source": [
        "from tensorflow.keras import layers\n",
        "\n",
        "model = tf.keras.Sequential([\n",
        "                             layers.Conv2D(filters= 62, kernel_size= 2, activation=\"relu\", input_shape=(224,224,3)),\n",
        "                             layers.MaxPooling2D(pool_size= 2),\n",
        "\n",
        "                             layers.Conv2D(filters= 62, kernel_size= 2, activation= \"relu\"),\n",
        "                             layers.MaxPooling2D(pool_size= 2),\n",
        "\n",
        "                             layers.Conv2D(filters= 62, kernel_size= 2, activation= \"relu\"),\n",
        "                             layers.MaxPooling2D(pool_size= 2),\n",
        "\n",
        "                             layers.Flatten(),\n",
        "\n",
        "                             layers.Dense(128, activation= \"relu\"),\n",
        "                             layers.Dropout(0.5),\n",
        "\n",
        "                             layers.Dense(128, activation= \"relu\"),\n",
        "                             layers.Dropout(0.5),\n",
        "\n",
        "                             layers.Dense(1, activation= \"sigmoid\")\n",
        "])"
      ]
    },
    {
      "cell_type": "code",
      "execution_count": null,
      "metadata": {
        "colab": {
          "base_uri": "https://localhost:8080/"
        },
        "id": "pmJpdyWKznEz",
        "outputId": "b5199d8b-62e5-4319-e22f-167b33da98cf"
      },
      "outputs": [
        {
          "output_type": "stream",
          "name": "stdout",
          "text": [
            "Model: \"sequential\"\n",
            "_________________________________________________________________\n",
            " Layer (type)                Output Shape              Param #   \n",
            "=================================================================\n",
            " conv2d (Conv2D)             (None, 223, 223, 62)      806       \n",
            "                                                                 \n",
            " max_pooling2d (MaxPooling2D  (None, 111, 111, 62)     0         \n",
            " )                                                               \n",
            "                                                                 \n",
            " conv2d_1 (Conv2D)           (None, 110, 110, 62)      15438     \n",
            "                                                                 \n",
            " max_pooling2d_1 (MaxPooling  (None, 55, 55, 62)       0         \n",
            " 2D)                                                             \n",
            "                                                                 \n",
            " conv2d_2 (Conv2D)           (None, 54, 54, 62)        15438     \n",
            "                                                                 \n",
            " max_pooling2d_2 (MaxPooling  (None, 27, 27, 62)       0         \n",
            " 2D)                                                             \n",
            "                                                                 \n",
            " flatten (Flatten)           (None, 45198)             0         \n",
            "                                                                 \n",
            " dense (Dense)               (None, 128)               5785472   \n",
            "                                                                 \n",
            " dropout (Dropout)           (None, 128)               0         \n",
            "                                                                 \n",
            " dense_1 (Dense)             (None, 128)               16512     \n",
            "                                                                 \n",
            " dropout_1 (Dropout)         (None, 128)               0         \n",
            "                                                                 \n",
            " dense_2 (Dense)             (None, 1)                 129       \n",
            "                                                                 \n",
            "=================================================================\n",
            "Total params: 5,833,795\n",
            "Trainable params: 5,833,795\n",
            "Non-trainable params: 0\n",
            "_________________________________________________________________\n"
          ]
        }
      ],
      "source": [
        "model.summary()"
      ]
    },
    {
      "cell_type": "code",
      "execution_count": null,
      "metadata": {
        "id": "8fYxfZvmz_E9"
      },
      "outputs": [],
      "source": [
        "# compiling the model\n",
        "\n",
        "model.compile(\n",
        "    loss = tf.keras.losses.binary_crossentropy,\n",
        "    optimizer = tf.keras.optimizers.Adam(),\n",
        "    metrics = [\"accuracy\"],\n",
        "    run_eagerly=True\n",
        ")"
      ]
    },
    {
      "cell_type": "code",
      "execution_count": null,
      "metadata": {
        "colab": {
          "base_uri": "https://localhost:8080/"
        },
        "id": "vtFjJrjz0ISk",
        "outputId": "2eb03a95-837a-4e7c-ff34-e8a571cd7dee"
      },
      "outputs": [
        {
          "output_type": "stream",
          "name": "stdout",
          "text": [
            "Epoch 1/15\n",
            "117/117 [==============================] - 580s 5s/step - loss: 0.5508 - accuracy: 0.7471 - val_loss: 0.5613 - val_accuracy: 0.7550\n",
            "Epoch 2/15\n",
            "117/117 [==============================] - 54s 463ms/step - loss: 0.4982 - accuracy: 0.7778 - val_loss: 0.6290 - val_accuracy: 0.7047\n",
            "Epoch 3/15\n",
            "117/117 [==============================] - 55s 471ms/step - loss: 0.4740 - accuracy: 0.7953 - val_loss: 0.4761 - val_accuracy: 0.8054\n",
            "Epoch 4/15\n",
            "117/117 [==============================] - 55s 468ms/step - loss: 0.4416 - accuracy: 0.8076 - val_loss: 0.4492 - val_accuracy: 0.8087\n",
            "Epoch 5/15\n",
            "117/117 [==============================] - 55s 467ms/step - loss: 0.4167 - accuracy: 0.8251 - val_loss: 0.3696 - val_accuracy: 0.8490\n",
            "Epoch 6/15\n",
            "117/117 [==============================] - 55s 468ms/step - loss: 0.3439 - accuracy: 0.8577 - val_loss: 0.2997 - val_accuracy: 0.8859\n",
            "Epoch 7/15\n",
            "117/117 [==============================] - 55s 473ms/step - loss: 0.2906 - accuracy: 0.8849 - val_loss: 0.1532 - val_accuracy: 0.9463\n",
            "Epoch 8/15\n",
            "117/117 [==============================] - 54s 462ms/step - loss: 0.2569 - accuracy: 0.9034 - val_loss: 0.1751 - val_accuracy: 0.9329\n",
            "Epoch 9/15\n",
            "117/117 [==============================] - 54s 459ms/step - loss: 0.2658 - accuracy: 0.8972 - val_loss: 0.1501 - val_accuracy: 0.9396\n",
            "Epoch 10/15\n",
            "117/117 [==============================] - 54s 460ms/step - loss: 0.2255 - accuracy: 0.9188 - val_loss: 0.1417 - val_accuracy: 0.9497\n",
            "Epoch 11/15\n",
            "117/117 [==============================] - 54s 463ms/step - loss: 0.1977 - accuracy: 0.9255 - val_loss: 0.0750 - val_accuracy: 0.9799\n",
            "Epoch 12/15\n",
            "117/117 [==============================] - 53s 454ms/step - loss: 0.2126 - accuracy: 0.9206 - val_loss: 0.0705 - val_accuracy: 0.9765\n",
            "Epoch 13/15\n",
            "117/117 [==============================] - 55s 467ms/step - loss: 0.1793 - accuracy: 0.9368 - val_loss: 0.0901 - val_accuracy: 0.9732\n",
            "Epoch 14/15\n",
            "117/117 [==============================] - 53s 455ms/step - loss: 0.1764 - accuracy: 0.9360 - val_loss: 0.0879 - val_accuracy: 0.9698\n",
            "Epoch 15/15\n",
            "117/117 [==============================] - 53s 454ms/step - loss: 0.1901 - accuracy: 0.9303 - val_loss: 0.0727 - val_accuracy: 0.9732\n"
          ]
        },
        {
          "output_type": "execute_result",
          "data": {
            "text/plain": [
              "<keras.callbacks.History at 0x7f0e69485a50>"
            ]
          },
          "metadata": {},
          "execution_count": 12
        }
      ],
      "source": [
        "model.fit(train_data,\n",
        "          epochs = 15,\n",
        "          steps_per_epoch = len(train_data),\n",
        "          validation_data = val_data,\n",
        "          validation_steps = len(val_data)\n",
        "          )"
      ]
    },
    {
      "cell_type": "code",
      "execution_count": null,
      "metadata": {
        "colab": {
          "base_uri": "https://localhost:8080/"
        },
        "id": "Wyby7qqL_xYF",
        "outputId": "ff9e0dfe-7f23-4d67-f659-03b93bacfc1d"
      },
      "outputs": [
        {
          "output_type": "stream",
          "name": "stdout",
          "text": [
            "8/8 [==============================] - 137s 20s/step - loss: 0.0507 - accuracy: 0.9880\n"
          ]
        }
      ],
      "source": [
        "model_evaluation = model.evaluate(test_data)"
      ]
    },
    {
      "cell_type": "code",
      "execution_count": null,
      "metadata": {
        "colab": {
          "base_uri": "https://localhost:8080/"
        },
        "id": "L9-beM9VAt36",
        "outputId": "f6de9d62-15c0-4be2-f7b1-5c436eadf087"
      },
      "outputs": [
        {
          "output_type": "stream",
          "name": "stdout",
          "text": [
            "Model Accuracy:  98.80 %\n"
          ]
        }
      ],
      "source": [
        "print(f\"Model Accuracy: {model_evaluation[1] * 100 : 0.2f} %\")"
      ]
    },
    {
      "cell_type": "code",
      "execution_count": null,
      "metadata": {
        "id": "uMMt1eUUcQVl"
      },
      "outputs": [],
      "source": [
        "model.save('/Train_Test_Clean.h5')"
      ]
    },
    {
      "cell_type": "code",
      "execution_count": null,
      "metadata": {
        "id": "mPUAfKacPVP2",
        "colab": {
          "base_uri": "https://localhost:8080/",
          "height": 35
        },
        "outputId": "bee0d4f5-ade1-4230-fa70-1527fee4ee97"
      },
      "outputs": [
        {
          "output_type": "display_data",
          "data": {
            "text/plain": [
              "<Figure size 1152x1152 with 0 Axes>"
            ]
          },
          "metadata": {}
        }
      ],
      "source": [
        "import matplotlib.pyplot as plt\n",
        "import tensorflow as tf\n",
        "plt.figure(figsize=(16,16))\n",
        "\n",
        "#for i in range(18):\n",
        "\n",
        "  #image, label = test_data.next()\n",
        "model_pred = model.predict(test_data) \n",
        "\n",
        "\n",
        "  #plt.subplot(6,3,i+1)\n",
        "  #plt.imshow(image[i])\n",
        "  #plt.title(f\"Prediction : {labels[int(tf.round(model_pred[i]))]}\\n Original: {labels[int(label[i])]}\")\n",
        "  #plt.subplots_adjust(top= 1.25)\n",
        "  #plt.axis(\"off\")"
      ]
    },
    {
      "cell_type": "code",
      "source": [
        "model_pred[1][0]"
      ],
      "metadata": {
        "colab": {
          "base_uri": "https://localhost:8080/"
        },
        "id": "wmRVTzIIUtSq",
        "outputId": "06098cb0-57dd-493f-a0a4-40b00ae58b49"
      },
      "execution_count": null,
      "outputs": [
        {
          "output_type": "execute_result",
          "data": {
            "text/plain": [
              "0.04186619"
            ]
          },
          "metadata": {},
          "execution_count": 17
        }
      ]
    },
    {
      "cell_type": "code",
      "source": [
        "ans = []\n",
        "for i in model_pred:\n",
        "  print (i[0])\n",
        "  if i[0] < 0.5:\n",
        "    ans.append(0)\n",
        "  else:\n",
        "    ans.append(1)"
      ],
      "metadata": {
        "id": "4cTMkhFlUw1S"
      },
      "execution_count": null,
      "outputs": []
    },
    {
      "cell_type": "code",
      "source": [
        "ans"
      ],
      "metadata": {
        "id": "AvgvDhkCUz4B"
      },
      "execution_count": null,
      "outputs": []
    },
    {
      "cell_type": "code",
      "execution_count": null,
      "metadata": {
        "colab": {
          "base_uri": "https://localhost:8080/"
        },
        "id": "UN-p5dAAAD6A",
        "outputId": "e3ce7941-9052-4d4f-b5fd-58e7855ecb4d"
      },
      "outputs": [
        {
          "output_type": "stream",
          "name": "stdout",
          "text": [
            "Confusion Matrix\n"
          ]
        },
        {
          "output_type": "execute_result",
          "data": {
            "text/plain": [
              "array([[42, 58],\n",
              "       [57, 93]])"
            ]
          },
          "metadata": {},
          "execution_count": 21
        }
      ],
      "source": [
        "from sklearn.metrics import confusion_matrix\n",
        "print('Confusion Matrix')\n",
        "cm = confusion_matrix(test_data.classes, ans)\n",
        "cm"
      ]
    },
    {
      "cell_type": "code",
      "execution_count": null,
      "metadata": {
        "colab": {
          "base_uri": "https://localhost:8080/"
        },
        "id": "fEGJ7eRbAb74",
        "outputId": "7df9e200-c9b9-4d07-c4b9-0e3f54d2a65b"
      },
      "outputs": [
        {
          "output_type": "stream",
          "name": "stdout",
          "text": [
            "Accuracy Score 54.0 %\n",
            "Precision Macro Score 52.006823198876184 %\n",
            "Recall_Score 52.0 %\n",
            "F_Score 52.00253760496837 %\n"
          ]
        }
      ],
      "source": [
        "from sklearn.metrics import accuracy_score, precision_score, f1_score, recall_score\n",
        "\n",
        "print('Accuracy Score',accuracy_score(test_data.classes, ans)*100,'%')\n",
        "print('Precision Macro Score',precision_score(test_data.classes, ans,average = 'macro')*100,'%')\n",
        "print('Recall_Score',recall_score(test_data.classes, ans, average = 'macro')*100,'%')\n",
        "print('F_Score',f1_score(test_data.classes, ans, average = 'macro')*100,'%')"
      ]
    }
  ],
  "metadata": {
    "colab": {
      "name": "beauty_average_Model",
      "provenance": [],
      "collapsed_sections": []
    },
    "gpuClass": "standard",
    "kernelspec": {
      "display_name": "Python 3",
      "name": "python3"
    },
    "language_info": {
      "name": "python"
    },
    "accelerator": "GPU"
  },
  "nbformat": 4,
  "nbformat_minor": 0
}